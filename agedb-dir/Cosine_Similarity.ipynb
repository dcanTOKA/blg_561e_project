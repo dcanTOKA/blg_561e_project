{
 "cells": [
  {
   "cell_type": "code",
   "execution_count": 41,
   "metadata": {},
   "outputs": [],
   "source": [
    "import numpy as np\n",
    "from numpy import dot\n",
    "from numpy.linalg import norm\n",
    "import matplotlib.pyplot as plt"
   ]
  },
  {
   "cell_type": "code",
   "execution_count": 42,
   "metadata": {},
   "outputs": [],
   "source": [
    "# Get labes\n",
    "labels = np.arange(bucket_start ,bucket_num , 1.0)"
   ]
  },
  {
   "cell_type": "code",
   "execution_count": 57,
   "metadata": {},
   "outputs": [],
   "source": [
    "# Indicate the directory to get numpy arrays of both mean and var\n",
    "path = \"/Users/testinium/Desktop/final_project/blg_561e_project/agedb-dir/statistics_1/\""
   ]
  },
  {
   "cell_type": "code",
   "execution_count": 58,
   "metadata": {},
   "outputs": [],
   "source": [
    "# Read numpy arrays , do the cosine similarity operation , store them and show them.\n",
    "\n",
    "modes = ['var', 'mean']\n",
    "\n",
    "def show_cosine_similarity(anchor, labels, mode = None):\n",
    "    if mode == 'None':\n",
    "        raise ValueError('You must select \"var\" or \"mean\" ')\n",
    "    elif mode in modes:\n",
    "        cosine_sims = np.array([])\n",
    "        anchor_list = np.load(f\"{path}{anchor}_{mode}.npy\")\n",
    "        print(f\"Loading Anchor ... ===> {anchor}_{mode}.npy\")\n",
    "        for label in labels:\n",
    "            #print(f\"Loading Target ... ===> {label}_{mode}.npy\")\n",
    "            target_list = np.load(f\"{path}{label}_{mode}.npy\")\n",
    "            temp = cosine_similarity(anchor_list, target_list)\n",
    "            cosine_sims = np.append(cosine_sims,temp)\n",
    "        cosine_sim_graph(labels, cosine_sims, anchor, mode)\n",
    "    else:\n",
    "        raise ValueError(f\" Invalid mode {mode}\")\n",
    "        \n",
    "            \n",
    "def cosine_similarity(list_1, list_2):\n",
    "    epsilon = 1e-6\n",
    "    return dot(list_1, list_2)/(norm(list_1)*norm(list_2) + epsilon)\n",
    "\n",
    "def cosine_sim_graph(labels, cos_sims, anchor, mode):\n",
    "    plt.style.use('ggplot')\n",
    "    fig=plt.figure(figsize=(12,5))\n",
    "    bars = plt.bar(labels,cos_sims,color='blue')\n",
    "    index = list(labels).index(anchor)\n",
    "    bars[index].set_color('r')\n",
    "    plt.title(mode.upper())"
   ]
  },
  {
   "cell_type": "code",
   "execution_count": 59,
   "metadata": {},
   "outputs": [],
   "source": [
    "# Do not change these unless you change in the original repo while training\n",
    "bucket_num=100\n",
    "bucket_start=3\n",
    "# Select an age between \"bucket_start\" and \"bucket_num\"\n",
    "anchor = 10.0"
   ]
  },
  {
   "cell_type": "code",
   "execution_count": 60,
   "metadata": {},
   "outputs": [
    {
     "name": "stdout",
     "output_type": "stream",
     "text": [
      "Loading Anchor ... ===> 10.0_mean.npy\n"
     ]
    },
    {
     "data": {
      "image/png": "[encoded data removed]",
      "text/plain": [
       "<Figure size 864x360 with 1 Axes>"
      ]
     },
     "metadata": {},
     "output_type": "display_data"
    }
   ],
   "source": [
    "# Cosine similarity for mean\n",
    "show_cosine_similarity(anchor, labels, \"mean\")"
   ]
  },
  {
   "cell_type": "code",
   "execution_count": 61,
   "metadata": {},
   "outputs": [
    {
     "name": "stdout",
     "output_type": "stream",
     "text": [
      "Loading Anchor ... ===> 10.0_var.npy\n"
     ]
    },
    {
     "data": {
      "image/png": "[encoded data removed]",
      "text/plain": [
       "<Figure size 864x360 with 1 Axes>"
      ]
     },
     "metadata": {},
     "output_type": "display_data"
    }
   ],
   "source": [
    "# Cosine similarity for var\n",
    "show_cosine_similarity(anchor, labels, \"var\")"
   ]
  },
  {
   "cell_type": "code",
   "execution_count": null,
   "metadata": {},
   "outputs": [],
   "source": []
  },
  {
   "cell_type": "code",
   "execution_count": null,
   "metadata": {},
   "outputs": [],
   "source": []
  }
 ],
 "metadata": {
  "kernelspec": {
   "display_name": "Python 3",
   "language": "python",
   "name": "python3"
  },
  "language_info": {
   "codemirror_mode": {
    "name": "ipython",
    "version": 3
   },
   "file_extension": ".py",
   "mimetype": "text/x-python",
   "name": "python",
   "nbconvert_exporter": "python",
   "pygments_lexer": "ipython3",
   "version": "3.8.5"
  }
 },
 "nbformat": 4,
 "nbformat_minor": 5
}
